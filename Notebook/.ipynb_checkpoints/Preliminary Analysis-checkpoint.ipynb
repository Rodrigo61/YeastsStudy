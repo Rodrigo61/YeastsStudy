{
 "cells": [
  {
   "cell_type": "code",
   "execution_count": 27,
   "metadata": {
    "collapsed": false
   },
   "outputs": [],
   "source": [
    "import sys\n",
    "import warnings\n",
    "warnings.filterwarnings('ignore')\n",
    "sys.path.append(\"../\")\n",
    "import pandas as pd\n",
    "impor\n",
    "from sklearn.model_selection import GridSearchCV, StratifiedKFold\n",
    "from sklearn.neighbors import KNeighborsClassifier\n",
    "from sklearn.ensemble import RandomForestClassifier, GradientBoostingClassifier\n",
    "from sklearn.decomposition import PCA\n",
    "from scipy.spatial import distance\n",
    "from scripts import modeimputer"
   ]
  },
  {
   "cell_type": "code",
   "execution_count": 4,
   "metadata": {
    "collapsed": false
   },
   "outputs": [
    {
     "data": {
      "text/html": [
       "<div>\n",
       "<table border=\"1\" class=\"dataframe\">\n",
       "  <thead>\n",
       "    <tr style=\"text-align: right;\">\n",
       "      <th></th>\n",
       "      <th>00class</th>\n",
       "      <th>37cgrowth</th>\n",
       "      <th>40cgrowth</th>\n",
       "      <th>50%glucosegrowth</th>\n",
       "      <th>60%glucosegrowth</th>\n",
       "      <th>acidproduction</th>\n",
       "      <th>acidtolerant</th>\n",
       "      <th>amdglucoside</th>\n",
       "      <th>arbutinhydrolysis</th>\n",
       "      <th>cadaverine</th>\n",
       "      <th>...</th>\n",
       "      <th>sorbitol</th>\n",
       "      <th>sorbose</th>\n",
       "      <th>starchproduction</th>\n",
       "      <th>succinicacid</th>\n",
       "      <th>sucrose</th>\n",
       "      <th>trehalose</th>\n",
       "      <th>ureaseactivity</th>\n",
       "      <th>vitaminfreegrowth</th>\n",
       "      <th>xylitol</th>\n",
       "      <th>xylose</th>\n",
       "    </tr>\n",
       "  </thead>\n",
       "  <tbody>\n",
       "    <tr>\n",
       "      <th>0</th>\n",
       "      <td>0</td>\n",
       "      <td>1.0</td>\n",
       "      <td>0.0</td>\n",
       "      <td>1.0</td>\n",
       "      <td>0.0</td>\n",
       "      <td>-1.0</td>\n",
       "      <td>-1.0</td>\n",
       "      <td>0.0</td>\n",
       "      <td>-1.0</td>\n",
       "      <td>-1.0</td>\n",
       "      <td>...</td>\n",
       "      <td>-1.0</td>\n",
       "      <td>-1.0</td>\n",
       "      <td>-1.0</td>\n",
       "      <td>-1.0</td>\n",
       "      <td>1.0</td>\n",
       "      <td>1.0</td>\n",
       "      <td>-1.0</td>\n",
       "      <td>NaN</td>\n",
       "      <td>-1.0</td>\n",
       "      <td>-1.0</td>\n",
       "    </tr>\n",
       "    <tr>\n",
       "      <th>1</th>\n",
       "      <td>0</td>\n",
       "      <td>-1.0</td>\n",
       "      <td>-1.0</td>\n",
       "      <td>NaN</td>\n",
       "      <td>NaN</td>\n",
       "      <td>-1.0</td>\n",
       "      <td>-1.0</td>\n",
       "      <td>1.0</td>\n",
       "      <td>-1.0</td>\n",
       "      <td>-1.0</td>\n",
       "      <td>...</td>\n",
       "      <td>-1.0</td>\n",
       "      <td>-1.0</td>\n",
       "      <td>-1.0</td>\n",
       "      <td>-1.0</td>\n",
       "      <td>1.0</td>\n",
       "      <td>1.0</td>\n",
       "      <td>-1.0</td>\n",
       "      <td>-1.0</td>\n",
       "      <td>-1.0</td>\n",
       "      <td>-1.0</td>\n",
       "    </tr>\n",
       "    <tr>\n",
       "      <th>2</th>\n",
       "      <td>0</td>\n",
       "      <td>1.0</td>\n",
       "      <td>NaN</td>\n",
       "      <td>1.0</td>\n",
       "      <td>-1.0</td>\n",
       "      <td>-1.0</td>\n",
       "      <td>-1.0</td>\n",
       "      <td>1.0</td>\n",
       "      <td>-1.0</td>\n",
       "      <td>-1.0</td>\n",
       "      <td>...</td>\n",
       "      <td>-1.0</td>\n",
       "      <td>-1.0</td>\n",
       "      <td>-1.0</td>\n",
       "      <td>-1.0</td>\n",
       "      <td>1.0</td>\n",
       "      <td>0.0</td>\n",
       "      <td>-1.0</td>\n",
       "      <td>NaN</td>\n",
       "      <td>-1.0</td>\n",
       "      <td>-1.0</td>\n",
       "    </tr>\n",
       "    <tr>\n",
       "      <th>3</th>\n",
       "      <td>0</td>\n",
       "      <td>1.0</td>\n",
       "      <td>1.0</td>\n",
       "      <td>1.0</td>\n",
       "      <td>-1.0</td>\n",
       "      <td>-1.0</td>\n",
       "      <td>-1.0</td>\n",
       "      <td>-1.0</td>\n",
       "      <td>-1.0</td>\n",
       "      <td>-1.0</td>\n",
       "      <td>...</td>\n",
       "      <td>-1.0</td>\n",
       "      <td>-1.0</td>\n",
       "      <td>-1.0</td>\n",
       "      <td>-1.0</td>\n",
       "      <td>1.0</td>\n",
       "      <td>-1.0</td>\n",
       "      <td>-1.0</td>\n",
       "      <td>NaN</td>\n",
       "      <td>-1.0</td>\n",
       "      <td>-1.0</td>\n",
       "    </tr>\n",
       "    <tr>\n",
       "      <th>4</th>\n",
       "      <td>0</td>\n",
       "      <td>1.0</td>\n",
       "      <td>NaN</td>\n",
       "      <td>NaN</td>\n",
       "      <td>-1.0</td>\n",
       "      <td>-1.0</td>\n",
       "      <td>NaN</td>\n",
       "      <td>-1.0</td>\n",
       "      <td>-1.0</td>\n",
       "      <td>NaN</td>\n",
       "      <td>...</td>\n",
       "      <td>-1.0</td>\n",
       "      <td>-1.0</td>\n",
       "      <td>-1.0</td>\n",
       "      <td>-1.0</td>\n",
       "      <td>-1.0</td>\n",
       "      <td>-1.0</td>\n",
       "      <td>NaN</td>\n",
       "      <td>-1.0</td>\n",
       "      <td>NaN</td>\n",
       "      <td>-1.0</td>\n",
       "    </tr>\n",
       "    <tr>\n",
       "      <th>5</th>\n",
       "      <td>0</td>\n",
       "      <td>1.0</td>\n",
       "      <td>1.0</td>\n",
       "      <td>1.0</td>\n",
       "      <td>-1.0</td>\n",
       "      <td>-1.0</td>\n",
       "      <td>-1.0</td>\n",
       "      <td>-1.0</td>\n",
       "      <td>-1.0</td>\n",
       "      <td>-1.0</td>\n",
       "      <td>...</td>\n",
       "      <td>-1.0</td>\n",
       "      <td>-1.0</td>\n",
       "      <td>-1.0</td>\n",
       "      <td>-1.0</td>\n",
       "      <td>1.0</td>\n",
       "      <td>1.0</td>\n",
       "      <td>-1.0</td>\n",
       "      <td>NaN</td>\n",
       "      <td>-1.0</td>\n",
       "      <td>-1.0</td>\n",
       "    </tr>\n",
       "    <tr>\n",
       "      <th>6</th>\n",
       "      <td>0</td>\n",
       "      <td>1.0</td>\n",
       "      <td>0.0</td>\n",
       "      <td>-1.0</td>\n",
       "      <td>-1.0</td>\n",
       "      <td>-1.0</td>\n",
       "      <td>-1.0</td>\n",
       "      <td>1.0</td>\n",
       "      <td>-1.0</td>\n",
       "      <td>-1.0</td>\n",
       "      <td>...</td>\n",
       "      <td>-1.0</td>\n",
       "      <td>-1.0</td>\n",
       "      <td>NaN</td>\n",
       "      <td>-1.0</td>\n",
       "      <td>1.0</td>\n",
       "      <td>1.0</td>\n",
       "      <td>-1.0</td>\n",
       "      <td>NaN</td>\n",
       "      <td>-1.0</td>\n",
       "      <td>-1.0</td>\n",
       "    </tr>\n",
       "    <tr>\n",
       "      <th>7</th>\n",
       "      <td>0</td>\n",
       "      <td>1.0</td>\n",
       "      <td>NaN</td>\n",
       "      <td>-1.0</td>\n",
       "      <td>-1.0</td>\n",
       "      <td>-1.0</td>\n",
       "      <td>NaN</td>\n",
       "      <td>-1.0</td>\n",
       "      <td>-1.0</td>\n",
       "      <td>NaN</td>\n",
       "      <td>...</td>\n",
       "      <td>-1.0</td>\n",
       "      <td>-1.0</td>\n",
       "      <td>-1.0</td>\n",
       "      <td>-1.0</td>\n",
       "      <td>-1.0</td>\n",
       "      <td>-1.0</td>\n",
       "      <td>-1.0</td>\n",
       "      <td>-1.0</td>\n",
       "      <td>NaN</td>\n",
       "      <td>-1.0</td>\n",
       "    </tr>\n",
       "    <tr>\n",
       "      <th>8</th>\n",
       "      <td>0</td>\n",
       "      <td>NaN</td>\n",
       "      <td>NaN</td>\n",
       "      <td>NaN</td>\n",
       "      <td>-1.0</td>\n",
       "      <td>NaN</td>\n",
       "      <td>NaN</td>\n",
       "      <td>NaN</td>\n",
       "      <td>-1.0</td>\n",
       "      <td>NaN</td>\n",
       "      <td>...</td>\n",
       "      <td>-1.0</td>\n",
       "      <td>NaN</td>\n",
       "      <td>-1.0</td>\n",
       "      <td>-1.0</td>\n",
       "      <td>1.0</td>\n",
       "      <td>0.0</td>\n",
       "      <td>NaN</td>\n",
       "      <td>1.0</td>\n",
       "      <td>NaN</td>\n",
       "      <td>-1.0</td>\n",
       "    </tr>\n",
       "    <tr>\n",
       "      <th>9</th>\n",
       "      <td>0</td>\n",
       "      <td>1.0</td>\n",
       "      <td>-1.0</td>\n",
       "      <td>-1.0</td>\n",
       "      <td>-1.0</td>\n",
       "      <td>-1.0</td>\n",
       "      <td>-1.0</td>\n",
       "      <td>1.0</td>\n",
       "      <td>-1.0</td>\n",
       "      <td>-1.0</td>\n",
       "      <td>...</td>\n",
       "      <td>-1.0</td>\n",
       "      <td>-1.0</td>\n",
       "      <td>-1.0</td>\n",
       "      <td>-1.0</td>\n",
       "      <td>1.0</td>\n",
       "      <td>0.0</td>\n",
       "      <td>-1.0</td>\n",
       "      <td>NaN</td>\n",
       "      <td>-1.0</td>\n",
       "      <td>-1.0</td>\n",
       "    </tr>\n",
       "  </tbody>\n",
       "</table>\n",
       "<p>10 rows × 54 columns</p>\n",
       "</div>"
      ],
      "text/plain": [
       "   00class  37cgrowth  40cgrowth  50%glucosegrowth  60%glucosegrowth  \\\n",
       "0        0        1.0        0.0               1.0               0.0   \n",
       "1        0       -1.0       -1.0               NaN               NaN   \n",
       "2        0        1.0        NaN               1.0              -1.0   \n",
       "3        0        1.0        1.0               1.0              -1.0   \n",
       "4        0        1.0        NaN               NaN              -1.0   \n",
       "5        0        1.0        1.0               1.0              -1.0   \n",
       "6        0        1.0        0.0              -1.0              -1.0   \n",
       "7        0        1.0        NaN              -1.0              -1.0   \n",
       "8        0        NaN        NaN               NaN              -1.0   \n",
       "9        0        1.0       -1.0              -1.0              -1.0   \n",
       "\n",
       "   acidproduction  acidtolerant  amdglucoside  arbutinhydrolysis  cadaverine  \\\n",
       "0            -1.0          -1.0           0.0               -1.0        -1.0   \n",
       "1            -1.0          -1.0           1.0               -1.0        -1.0   \n",
       "2            -1.0          -1.0           1.0               -1.0        -1.0   \n",
       "3            -1.0          -1.0          -1.0               -1.0        -1.0   \n",
       "4            -1.0           NaN          -1.0               -1.0         NaN   \n",
       "5            -1.0          -1.0          -1.0               -1.0        -1.0   \n",
       "6            -1.0          -1.0           1.0               -1.0        -1.0   \n",
       "7            -1.0           NaN          -1.0               -1.0         NaN   \n",
       "8             NaN           NaN           NaN               -1.0         NaN   \n",
       "9            -1.0          -1.0           1.0               -1.0        -1.0   \n",
       "\n",
       "    ...    sorbitol  sorbose  starchproduction  succinicacid  sucrose  \\\n",
       "0   ...        -1.0     -1.0              -1.0          -1.0      1.0   \n",
       "1   ...        -1.0     -1.0              -1.0          -1.0      1.0   \n",
       "2   ...        -1.0     -1.0              -1.0          -1.0      1.0   \n",
       "3   ...        -1.0     -1.0              -1.0          -1.0      1.0   \n",
       "4   ...        -1.0     -1.0              -1.0          -1.0     -1.0   \n",
       "5   ...        -1.0     -1.0              -1.0          -1.0      1.0   \n",
       "6   ...        -1.0     -1.0               NaN          -1.0      1.0   \n",
       "7   ...        -1.0     -1.0              -1.0          -1.0     -1.0   \n",
       "8   ...        -1.0      NaN              -1.0          -1.0      1.0   \n",
       "9   ...        -1.0     -1.0              -1.0          -1.0      1.0   \n",
       "\n",
       "   trehalose  ureaseactivity  vitaminfreegrowth  xylitol  xylose  \n",
       "0        1.0            -1.0                NaN     -1.0    -1.0  \n",
       "1        1.0            -1.0               -1.0     -1.0    -1.0  \n",
       "2        0.0            -1.0                NaN     -1.0    -1.0  \n",
       "3       -1.0            -1.0                NaN     -1.0    -1.0  \n",
       "4       -1.0             NaN               -1.0      NaN    -1.0  \n",
       "5        1.0            -1.0                NaN     -1.0    -1.0  \n",
       "6        1.0            -1.0                NaN     -1.0    -1.0  \n",
       "7       -1.0            -1.0               -1.0      NaN    -1.0  \n",
       "8        0.0             NaN                1.0      NaN    -1.0  \n",
       "9        0.0            -1.0                NaN     -1.0    -1.0  \n",
       "\n",
       "[10 rows x 54 columns]"
      ]
     },
     "execution_count": 4,
     "metadata": {},
     "output_type": "execute_result"
    }
   ],
   "source": [
    "data = pd.read_csv(\"../datasets/YPDS.csv\")\n",
    "data.head(10)"
   ]
  },
  {
   "cell_type": "code",
   "execution_count": 5,
   "metadata": {
    "collapsed": true
   },
   "outputs": [],
   "source": [
    "def missingProportion(data, column):\n",
    "    return data[column].isnull().sum()/data.shape[0]"
   ]
  },
  {
   "cell_type": "markdown",
   "metadata": {},
   "source": [
    "# Préprocessamento\n",
    "Remover todas as colunas com mais de 20% ~ 50% de dados faltantes e fazer a imputação pela moda da classe"
   ]
  },
  {
   "cell_type": "code",
   "execution_count": 6,
   "metadata": {
    "collapsed": false
   },
   "outputs": [],
   "source": [
    "preprocessedDatasets = {}\n",
    "missingValues = [0.20, 0.30, 0.40, 0.50]"
   ]
  },
  {
   "cell_type": "code",
   "execution_count": 7,
   "metadata": {
    "collapsed": false
   },
   "outputs": [],
   "source": [
    "for v in missingValues:\n",
    "    temp = pd.DataFrame().append(data)\n",
    "    for c in data.columns:\n",
    "        if missingProportion(temp, c) > v:\n",
    "            temp.drop(c, axis=1, inplace=True)\n",
    "    preprocessedDatasets[v] = temp"
   ]
  },
  {
   "cell_type": "code",
   "execution_count": 8,
   "metadata": {
    "collapsed": false
   },
   "outputs": [
    {
     "name": "stdout",
     "output_type": "stream",
     "text": [
      "0.20 | 40\n",
      "0.30 | 47\n",
      "0.40 | 48\n",
      "0.50 | 51\n"
     ]
    }
   ],
   "source": [
    "for key, value in preprocessedDatasets.items():\n",
    "    print(\"%.2f | %d\" % (key, value.shape[1]))\n",
    "    preprocessedDatasets[key] = modeimputer.imputeByClassMode(preprocessedDatasets[key])"
   ]
  },
  {
   "cell_type": "markdown",
   "metadata": {},
   "source": [
    "# Auxiliares\n",
    "Métodos auxiliares para fazer a validação cruzada"
   ]
  },
  {
   "cell_type": "code",
   "execution_count": 12,
   "metadata": {
    "collapsed": false
   },
   "outputs": [],
   "source": [
    "#Essa função extrai de um dataframe os valores de indices presentes em um vetor\n",
    "def extractIndexes(dataframe, indexes):\n",
    "    extracted = dataframe[dataframe.index == indexes[0]]\n",
    "    for i in indexes[1:]:\n",
    "        extracted = extracted.append(dataframe[dataframe.index==i])\n",
    "    return extracted\n",
    "\n",
    "#Calcula a acurácia  média fazendo um 5*3 kfold\n",
    "def meanAccuracy(data, labels, classifier, params):\n",
    "    kfolds = StratifiedKFold(n_splits=5)\n",
    "    return _KFoldMeanAccuracy(data, labels, kfolds, classifier, params)\n",
    "\n",
    "def _KFoldMeanAccuracy(data, labels, kfolds, classifier, params):\n",
    "    accuSum = 0\n",
    "    folds = kfolds.split(data, labels['00class'])\n",
    "    for train, test in folds:\n",
    "        _trainData= extractIndexes(data, train)\n",
    "        _trainClasses = extractIndexes(labels, train)\n",
    "        #Usando os KFolds computados, faz um 3-fold interno para calcular a acurácia media esperada\n",
    "        clf = GridSearchCV(classifier, params, scoring='accuracy')\n",
    "        clf.fit(_trainData, _trainClasses['00class'])\n",
    "        accuSum += clf.best_score_\n",
    "    return accuSum/5\n",
    "    \n",
    "#Escolhe os melhores hiperparametros fazendo um 3-fold\n",
    "def bestHParams(data, labels, classifier, params):\n",
    "    clf = GridSearchCV(classifier, params, scoring='accuracy')\n",
    "    clf.fit(data, labels['00class'])\n",
    "    return (clf.best_score_, clf.best_params_)"
   ]
  },
  {
   "cell_type": "code",
   "execution_count": 8,
   "metadata": {
    "collapsed": false
   },
   "outputs": [],
   "source": [
    "#Define os classificadores a serem testados e seus parâmetros\n",
    "estimators = {\n",
    "    'RF' : {'estimator' : RandomForestClassifier(), \n",
    "            'params' :  {'max_features':[10,15,20,25], 'n_estimators':[100,200,300,400]}},\n",
    "    'KNN': {'estimator' : KNeighborsClassifier(),\n",
    "            'params' : {'n_neighbors': [1,5,11,15,21,25], 'algorithm': ['ball_tree']}},\n",
    "    'GBM': {'estimator' : GradientBoostingClassifier(),\n",
    "            'params' : {'n_estimators':[30,70,100], 'learning_rate':[0.1, 0.05], 'max_depth':[5]}}\n",
    "}"
   ]
  },
  {
   "cell_type": "code",
   "execution_count": 13,
   "metadata": {
    "collapsed": false
   },
   "outputs": [
    {
     "name": "stdout",
     "output_type": "stream",
     "text": [
      "0.20\n",
      "KNN : 0.9975, {'n_neighbors': 1, 'algorithm': 'ball_tree'}\n",
      "RF : 0.9948, {'max_features': 25, 'n_estimators': 300}\n",
      "GBM : 0.9658, {'learning_rate': 0.1, 'n_estimators': 70, 'max_depth': 5}\n",
      "0.30\n",
      "KNN : 1.0000, {'n_neighbors': 1, 'algorithm': 'ball_tree'}\n",
      "RF : 0.9975, {'max_features': 10, 'n_estimators': 100}\n",
      "GBM : 0.9686, {'learning_rate': 0.1, 'n_estimators': 100, 'max_depth': 5}\n",
      "0.40\n",
      "KNN : 1.0000, {'n_neighbors': 1, 'algorithm': 'ball_tree'}\n",
      "RF : 0.9975, {'max_features': 10, 'n_estimators': 400}\n",
      "GBM : 0.9711, {'learning_rate': 0.05, 'n_estimators': 100, 'max_depth': 5}\n",
      "0.50\n",
      "KNN : 1.0000, {'n_neighbors': 1, 'algorithm': 'ball_tree'}\n",
      "RF : 0.9895, {'max_features': 10, 'n_estimators': 100}\n",
      "GBM : 0.9763, {'learning_rate': 0.1, 'n_estimators': 70, 'max_depth': 5}\n"
     ]
    }
   ],
   "source": [
    "for v, dataset in preprocessedDatasets.items():\n",
    "    _labels = dataset[['00class']]\n",
    "    _data = dataset.drop('00class', axis = 1)\n",
    "    print(\"%.2f\" % v)\n",
    "    for estimator, eData in estimators.items():\n",
    "        results = meanAccuracy(_data,_labels, eData['estimator'], eData['params'])\n",
    "        _, params = bestHParams(_data,_labels, eData['estimator'], eData['params'])\n",
    "        print(\"%s : %.4f, %s\" % (estimator, results, params))"
   ]
  },
  {
   "cell_type": "code",
   "execution_count": 25,
   "metadata": {
    "collapsed": false
   },
   "outputs": [
    {
     "data": {
      "text/plain": [
       "7"
      ]
     },
     "execution_count": 25,
     "metadata": {},
     "output_type": "execute_result"
    }
   ],
   "source": [
    "pca = PCA(n_components=0.8)\n",
    "pca.fit(preprocessedDatasets[0.20])\n",
    "len(pca.components_)"
   ]
  },
  {
   "cell_type": "code",
   "execution_count": 31,
   "metadata": {
    "collapsed": false
   },
   "outputs": [
    {
     "data": {
      "text/plain": [
       "array([ 3.46410162,  2.        ,  3.16227766, ...,  4.58257569,\n",
       "        4.79583152,  3.46410162])"
      ]
     },
     "execution_count": 31,
     "metadata": {},
     "output_type": "execute_result"
    }
   ],
   "source": [
    "distance.pdist(preprocessedDatasets[0.20].drop('00class', axis=1))"
   ]
  },
  {
   "cell_type": "code",
   "execution_count": null,
   "metadata": {
    "collapsed": true
   },
   "outputs": [],
   "source": []
  }
 ],
 "metadata": {
  "anaconda-cloud": {},
  "kernelspec": {
   "display_name": "Python [default]",
   "language": "python",
   "name": "python3"
  },
  "language_info": {
   "codemirror_mode": {
    "name": "ipython",
    "version": 3
   },
   "file_extension": ".py",
   "mimetype": "text/x-python",
   "name": "python",
   "nbconvert_exporter": "python",
   "pygments_lexer": "ipython3",
   "version": "3.5.2"
  }
 },
 "nbformat": 4,
 "nbformat_minor": 1
}
